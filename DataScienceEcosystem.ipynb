{
 "cells": [
  {
   "cell_type": "markdown",
   "id": "f1121cf6",
   "metadata": {},
   "source": [
    "# Data Science Tools and Ecosystem"
   ]
  },
  {
   "cell_type": "markdown",
   "id": "387c6932",
   "metadata": {},
   "source": [
    "In this notebook, Data Science Tools and Ecosystem are summarized."
   ]
  },
  {
   "cell_type": "markdown",
   "id": "5deba9ea",
   "metadata": {},
   "source": [
    "<b> Objectives :</b>\n",
    "\n",
    "<li>List popular Data Science languages</li>\n",
    "<li>List common Data Science librarires</li>\n",
    "<li>Make a table in a markdown cell</li>\n",
    "<li>Evaluate an arithmethic expression( multiplication and adding)</li>\n",
    "<li>Perform a division to convert minutes to hours</li>"
   ]
  },
  {
   "cell_type": "markdown",
   "id": "b4a17ffc",
   "metadata": {},
   "source": [
    "Some of the popular languages that Data Scientists use are:\n",
    "<li>Python</li>\n",
    "<li>R</li>\n",
    "<li>SQL</li>"
   ]
  },
  {
   "cell_type": "markdown",
   "id": "37001b42",
   "metadata": {},
   "source": [
    "Some of the commonly used libraries used by Data Scientists include:\n",
    "\n",
    "<li>Scikit-learn\n",
    "<li>Numpy\n",
    "<li>Matplotlib\n"
   ]
  },
  {
   "cell_type": "markdown",
   "id": "32bbaa0d",
   "metadata": {},
   "source": [
    "| Data Science Tools |\n",
    "| --- |\n",
    "| Pandas|\n",
    "| TensorFlow |\n",
    "| ggplot |"
   ]
  },
  {
   "cell_type": "markdown",
   "id": "90a9fb9b",
   "metadata": {},
   "source": [
    "### Below are a few examples of evaluating arithmetic expressions in Python"
   ]
  },
  {
   "cell_type": "markdown",
   "id": "6e5a4234",
   "metadata": {},
   "source": [
    "This is a simple expression to multiplicate and add numbers"
   ]
  },
  {
   "cell_type": "code",
   "execution_count": 2,
   "id": "f8b9b8cd",
   "metadata": {},
   "outputs": [
    {
     "data": {
      "text/plain": [
       "17"
      ]
     },
     "execution_count": 2,
     "metadata": {},
     "output_type": "execute_result"
    }
   ],
   "source": [
    "(3*4)+5"
   ]
  },
  {
   "cell_type": "markdown",
   "id": "fd35e62c",
   "metadata": {},
   "source": [
    "This will convert 200 minutes to hours by diving by 60"
   ]
  },
  {
   "cell_type": "code",
   "execution_count": 3,
   "id": "c6706670",
   "metadata": {},
   "outputs": [
    {
     "data": {
      "text/plain": [
       "3.3333333333333335"
      ]
     },
     "execution_count": 3,
     "metadata": {},
     "output_type": "execute_result"
    }
   ],
   "source": [
    "200 / 60"
   ]
  },
  {
   "cell_type": "markdown",
   "id": "9b8606d8",
   "metadata": {},
   "source": [
    "## Author:\n",
    "Raphael San Martín"
   ]
  },
  {
   "cell_type": "code",
   "execution_count": null,
   "id": "d80783a5",
   "metadata": {},
   "outputs": [],
   "source": []
  }
 ],
 "metadata": {
  "kernelspec": {
   "display_name": "Python 3 (ipykernel)",
   "language": "python",
   "name": "python3"
  },
  "language_info": {
   "codemirror_mode": {
    "name": "ipython",
    "version": 3
   },
   "file_extension": ".py",
   "mimetype": "text/x-python",
   "name": "python",
   "nbconvert_exporter": "python",
   "pygments_lexer": "ipython3",
   "version": "3.11.2"
  }
 },
 "nbformat": 4,
 "nbformat_minor": 5
}
